{
 "cells": [
  {
   "cell_type": "code",
   "execution_count": 3,
   "id": "085ccab4",
   "metadata": {},
   "outputs": [],
   "source": [
    "import numpy as np\n",
    "import pandas as pd"
   ]
  },
  {
   "cell_type": "code",
   "execution_count": 5,
   "id": "e7f938d6",
   "metadata": {},
   "outputs": [],
   "source": [
    "dataframe = pd.read_csv(\"../../data/raw_data/dailyTempSalorno.csv\")"
   ]
  },
  {
   "cell_type": "code",
   "execution_count": 12,
   "id": "1d3a9689",
   "metadata": {},
   "outputs": [],
   "source": [
    "dataframe['data'] = pd.to_datetime(dataframe[\"data\"], format=\"%d.%m.%Y\")"
   ]
  },
  {
   "cell_type": "code",
   "execution_count": 25,
   "id": "12f88bbf",
   "metadata": {},
   "outputs": [],
   "source": [
    "dataframe['year'] = pd.DatetimeIndex(dataframe['data']).year\n",
    "dataframe['month'] = pd.DatetimeIndex(dataframe['data']).month"
   ]
  },
  {
   "cell_type": "code",
   "execution_count": 32,
   "id": "56f54b3f",
   "metadata": {},
   "outputs": [],
   "source": [
    "dataframe = dataframe[[\"year\", \"month\", \"min\", \"max\"]]\n",
    "dataframe = dataframe[ dataframe[\"year\"].isin( [1993, 1997, 2001, 2005, 2009, 2013, 2017, 2021])]"
   ]
  },
  {
   "cell_type": "code",
   "execution_count": 33,
   "id": "64e82d91",
   "metadata": {},
   "outputs": [],
   "source": [
    "dataframe = dataframe.astype({\n",
    "    \"min\" : float,\n",
    "    \"max\" : float\n",
    "})"
   ]
  },
  {
   "cell_type": "code",
   "execution_count": 35,
   "id": "3cbaea71",
   "metadata": {},
   "outputs": [],
   "source": [
    "dataframe['avg'] = (dataframe[\"min\"] + dataframe[\"max\"]) / 2"
   ]
  },
  {
   "cell_type": "code",
   "execution_count": null,
   "id": "b606c26e",
   "metadata": {},
   "outputs": [],
   "source": []
  },
  {
   "cell_type": "code",
   "execution_count": 43,
   "id": "b8dae9df",
   "metadata": {},
   "outputs": [
    {
     "data": {
      "text/plain": [
       "year  month\n",
       "1993  1         0.435484\n",
       "      2         1.642857\n",
       "      3         8.000000\n",
       "      4        13.183333\n",
       "      5        17.983871\n",
       "                 ...    \n",
       "2021  8        21.388710\n",
       "      9        19.578333\n",
       "      10       11.945161\n",
       "      11        7.143333\n",
       "      12        2.840323\n",
       "Name: avg, Length: 96, dtype: float64"
      ]
     },
     "execution_count": 43,
     "metadata": {},
     "output_type": "execute_result"
    }
   ],
   "source": [
    "dataframe.groupby([\"year\", \"month\"])[\"avg\"].mean()"
   ]
  },
  {
   "cell_type": "code",
   "execution_count": 36,
   "id": "8c13a77e",
   "metadata": {},
   "outputs": [
    {
     "data": {
      "text/html": [
       "<div>\n",
       "<style scoped>\n",
       "    .dataframe tbody tr th:only-of-type {\n",
       "        vertical-align: middle;\n",
       "    }\n",
       "\n",
       "    .dataframe tbody tr th {\n",
       "        vertical-align: top;\n",
       "    }\n",
       "\n",
       "    .dataframe thead th {\n",
       "        text-align: right;\n",
       "    }\n",
       "</style>\n",
       "<table border=\"1\" class=\"dataframe\">\n",
       "  <thead>\n",
       "    <tr style=\"text-align: right;\">\n",
       "      <th></th>\n",
       "      <th>year</th>\n",
       "      <th>month</th>\n",
       "      <th>min</th>\n",
       "      <th>max</th>\n",
       "      <th>avg</th>\n",
       "    </tr>\n",
       "  </thead>\n",
       "  <tbody>\n",
       "    <tr>\n",
       "      <th>0</th>\n",
       "      <td>1993</td>\n",
       "      <td>1</td>\n",
       "      <td>-9.0</td>\n",
       "      <td>1.0</td>\n",
       "      <td>-4.0</td>\n",
       "    </tr>\n",
       "    <tr>\n",
       "      <th>1</th>\n",
       "      <td>1993</td>\n",
       "      <td>1</td>\n",
       "      <td>-9.0</td>\n",
       "      <td>-1.0</td>\n",
       "      <td>-5.0</td>\n",
       "    </tr>\n",
       "    <tr>\n",
       "      <th>2</th>\n",
       "      <td>1993</td>\n",
       "      <td>1</td>\n",
       "      <td>-4.0</td>\n",
       "      <td>1.0</td>\n",
       "      <td>-1.5</td>\n",
       "    </tr>\n",
       "    <tr>\n",
       "      <th>3</th>\n",
       "      <td>1993</td>\n",
       "      <td>1</td>\n",
       "      <td>-9.0</td>\n",
       "      <td>0.0</td>\n",
       "      <td>-4.5</td>\n",
       "    </tr>\n",
       "    <tr>\n",
       "      <th>4</th>\n",
       "      <td>1993</td>\n",
       "      <td>1</td>\n",
       "      <td>-5.0</td>\n",
       "      <td>2.0</td>\n",
       "      <td>-1.5</td>\n",
       "    </tr>\n",
       "  </tbody>\n",
       "</table>\n",
       "</div>"
      ],
      "text/plain": [
       "   year  month  min  max  avg\n",
       "0  1993      1 -9.0  1.0 -4.0\n",
       "1  1993      1 -9.0 -1.0 -5.0\n",
       "2  1993      1 -4.0  1.0 -1.5\n",
       "3  1993      1 -9.0  0.0 -4.5\n",
       "4  1993      1 -5.0  2.0 -1.5"
      ]
     },
     "execution_count": 36,
     "metadata": {},
     "output_type": "execute_result"
    }
   ],
   "source": [
    "dataframe.head()"
   ]
  }
 ],
 "metadata": {
  "kernelspec": {
   "display_name": "Python 3",
   "language": "python",
   "name": "python3"
  },
  "language_info": {
   "codemirror_mode": {
    "name": "ipython",
    "version": 3
   },
   "file_extension": ".py",
   "mimetype": "text/x-python",
   "name": "python",
   "nbconvert_exporter": "python",
   "pygments_lexer": "ipython3",
   "version": "3.10.6"
  }
 },
 "nbformat": 4,
 "nbformat_minor": 5
}
