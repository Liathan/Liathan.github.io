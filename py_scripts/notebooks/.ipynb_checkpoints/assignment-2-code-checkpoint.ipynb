{
 "cells": [
  {
   "cell_type": "markdown",
   "id": "2052a4af",
   "metadata": {},
   "source": [
    "## Import libraries and loading data"
   ]
  },
  {
   "cell_type": "code",
   "execution_count": 1,
   "id": "bbf7850c",
   "metadata": {},
   "outputs": [],
   "source": [
    "# Import required libraries\n",
    "import numpy as np\n",
    "import pandas as pd\n",
    "import geopandas as gpd"
   ]
  },
  {
   "cell_type": "code",
   "execution_count": 2,
   "id": "88856fb4",
   "metadata": {},
   "outputs": [],
   "source": [
    "# Load the GeoJSON file as geopandas dataframe, dropping the last row (it refers to the \"Total\" observation)\n",
    "dataframe = gpd.read_file(\"../../data/raw_data/geo_data_trees.geojson\")[:-1]"
   ]
  },
  {
   "cell_type": "code",
   "execution_count": 4,
   "id": "4b83d666",
   "metadata": {},
   "outputs": [
    {
     "data": {
      "text/html": [
       "<div>\n",
       "<style scoped>\n",
       "    .dataframe tbody tr th:only-of-type {\n",
       "        vertical-align: middle;\n",
       "    }\n",
       "\n",
       "    .dataframe tbody tr th {\n",
       "        vertical-align: top;\n",
       "    }\n",
       "\n",
       "    .dataframe thead th {\n",
       "        text-align: right;\n",
       "    }\n",
       "</style>\n",
       "<table border=\"1\" class=\"dataframe\">\n",
       "  <thead>\n",
       "    <tr style=\"text-align: right;\">\n",
       "      <th></th>\n",
       "      <th>Tree ID</th>\n",
       "      <th>Name</th>\n",
       "      <th>DBH (cm)</th>\n",
       "      <th>Replacement Value (eur)</th>\n",
       "      <th>Carbon Storage (kg)</th>\n",
       "      <th>Carbon Storage (eur)</th>\n",
       "      <th>Gross Carbon Sequestration (kg/yr)</th>\n",
       "      <th>Gross Carbon Sequestration (eur/yr)</th>\n",
       "      <th>Avoided Runoff (mcube/yr)</th>\n",
       "      <th>Avoided Runoff (eur/yr)</th>\n",
       "      <th>...</th>\n",
       "      <th>Oxygen Production (kg/yr)</th>\n",
       "      <th>Height (m)</th>\n",
       "      <th>Crown Height (m)</th>\n",
       "      <th>Crown Width (m)</th>\n",
       "      <th>Canopy Cover (m2)</th>\n",
       "      <th>Leaf Area (m2)</th>\n",
       "      <th>Leaf Biomass (kg)</th>\n",
       "      <th>Latitude</th>\n",
       "      <th>Longitude</th>\n",
       "      <th>geometry</th>\n",
       "    </tr>\n",
       "  </thead>\n",
       "  <tbody>\n",
       "    <tr>\n",
       "      <th>0</th>\n",
       "      <td>1.0</td>\n",
       "      <td>Acer pseudoplatanus</td>\n",
       "      <td>8</td>\n",
       "      <td>179.43</td>\n",
       "      <td>12</td>\n",
       "      <td>1.92</td>\n",
       "      <td>1.1</td>\n",
       "      <td>0.17</td>\n",
       "      <td>0</td>\n",
       "      <td>0.01</td>\n",
       "      <td>...</td>\n",
       "      <td>2.8</td>\n",
       "      <td>3.5</td>\n",
       "      <td>1</td>\n",
       "      <td>1.5</td>\n",
       "      <td>1.8</td>\n",
       "      <td>3.5</td>\n",
       "      <td>0.2</td>\n",
       "      <td>46.051599</td>\n",
       "      <td>11.072014</td>\n",
       "      <td>POINT (11.07201 46.05160)</td>\n",
       "    </tr>\n",
       "    <tr>\n",
       "      <th>1</th>\n",
       "      <td>2.0</td>\n",
       "      <td>Acer pseudoplatanus</td>\n",
       "      <td>8</td>\n",
       "      <td>179.43</td>\n",
       "      <td>12.9</td>\n",
       "      <td>2.07</td>\n",
       "      <td>1.1</td>\n",
       "      <td>0.18</td>\n",
       "      <td>0</td>\n",
       "      <td>0.01</td>\n",
       "      <td>...</td>\n",
       "      <td>3</td>\n",
       "      <td>5</td>\n",
       "      <td>1.5</td>\n",
       "      <td>1.5</td>\n",
       "      <td>1.8</td>\n",
       "      <td>4.2</td>\n",
       "      <td>0.3</td>\n",
       "      <td>46.051541</td>\n",
       "      <td>11.072108</td>\n",
       "      <td>POINT (11.07211 46.05154)</td>\n",
       "    </tr>\n",
       "    <tr>\n",
       "      <th>2</th>\n",
       "      <td>3.0</td>\n",
       "      <td>Acer pseudoplatanus</td>\n",
       "      <td>9</td>\n",
       "      <td>227.09</td>\n",
       "      <td>16.2</td>\n",
       "      <td>2.61</td>\n",
       "      <td>1.3</td>\n",
       "      <td>0.2</td>\n",
       "      <td>0</td>\n",
       "      <td>0.01</td>\n",
       "      <td>...</td>\n",
       "      <td>3.4</td>\n",
       "      <td>4.5</td>\n",
       "      <td>1.3</td>\n",
       "      <td>1.5</td>\n",
       "      <td>1.8</td>\n",
       "      <td>4</td>\n",
       "      <td>0.3</td>\n",
       "      <td>46.051668</td>\n",
       "      <td>11.071959</td>\n",
       "      <td>POINT (11.07196 46.05167)</td>\n",
       "    </tr>\n",
       "    <tr>\n",
       "      <th>3</th>\n",
       "      <td>4.0</td>\n",
       "      <td>Acer pseudoplatanus</td>\n",
       "      <td>11</td>\n",
       "      <td>482.46</td>\n",
       "      <td>25.7</td>\n",
       "      <td>4.13</td>\n",
       "      <td>1.6</td>\n",
       "      <td>0.26</td>\n",
       "      <td>0</td>\n",
       "      <td>0.02</td>\n",
       "      <td>...</td>\n",
       "      <td>4.3</td>\n",
       "      <td>5</td>\n",
       "      <td>1.5</td>\n",
       "      <td>2.5</td>\n",
       "      <td>4.9</td>\n",
       "      <td>7.1</td>\n",
       "      <td>0.5</td>\n",
       "      <td>46.063778</td>\n",
       "      <td>11.150170</td>\n",
       "      <td>POINT (11.15017 46.06378)</td>\n",
       "    </tr>\n",
       "    <tr>\n",
       "      <th>4</th>\n",
       "      <td>7.0</td>\n",
       "      <td>Cupressus</td>\n",
       "      <td>25</td>\n",
       "      <td>1110.29</td>\n",
       "      <td>448.2</td>\n",
       "      <td>72.02</td>\n",
       "      <td>11.1</td>\n",
       "      <td>1.78</td>\n",
       "      <td>0</td>\n",
       "      <td>0.02</td>\n",
       "      <td>...</td>\n",
       "      <td>29.5</td>\n",
       "      <td>8</td>\n",
       "      <td>2.4</td>\n",
       "      <td>1.5</td>\n",
       "      <td>1.8</td>\n",
       "      <td>6.6</td>\n",
       "      <td>1.5</td>\n",
       "      <td>46.052305</td>\n",
       "      <td>11.071550</td>\n",
       "      <td>POINT (11.07155 46.05230)</td>\n",
       "    </tr>\n",
       "  </tbody>\n",
       "</table>\n",
       "<p>5 rows × 26 columns</p>\n",
       "</div>"
      ],
      "text/plain": [
       "   Tree ID                 Name DBH (cm) Replacement Value (eur)  \\\n",
       "0      1.0  Acer pseudoplatanus        8                  179.43   \n",
       "1      2.0  Acer pseudoplatanus        8                  179.43   \n",
       "2      3.0  Acer pseudoplatanus        9                  227.09   \n",
       "3      4.0  Acer pseudoplatanus       11                  482.46   \n",
       "4      7.0            Cupressus       25                 1110.29   \n",
       "\n",
       "  Carbon Storage (kg) Carbon Storage (eur) Gross Carbon Sequestration (kg/yr)  \\\n",
       "0                  12                 1.92                                1.1   \n",
       "1                12.9                 2.07                                1.1   \n",
       "2                16.2                 2.61                                1.3   \n",
       "3                25.7                 4.13                                1.6   \n",
       "4               448.2                72.02                               11.1   \n",
       "\n",
       "  Gross Carbon Sequestration (eur/yr) Avoided Runoff (mcube/yr)  \\\n",
       "0                                0.17                         0   \n",
       "1                                0.18                         0   \n",
       "2                                 0.2                         0   \n",
       "3                                0.26                         0   \n",
       "4                                1.78                         0   \n",
       "\n",
       "  Avoided Runoff (eur/yr)  ... Oxygen Production (kg/yr) Height (m)  \\\n",
       "0                    0.01  ...                       2.8        3.5   \n",
       "1                    0.01  ...                         3          5   \n",
       "2                    0.01  ...                       3.4        4.5   \n",
       "3                    0.02  ...                       4.3          5   \n",
       "4                    0.02  ...                      29.5          8   \n",
       "\n",
       "  Crown Height (m) Crown Width (m) Canopy Cover (m2) Leaf Area (m2)  \\\n",
       "0                1             1.5               1.8            3.5   \n",
       "1              1.5             1.5               1.8            4.2   \n",
       "2              1.3             1.5               1.8              4   \n",
       "3              1.5             2.5               4.9            7.1   \n",
       "4              2.4             1.5               1.8            6.6   \n",
       "\n",
       "  Leaf Biomass (kg)   Latitude  Longitude                   geometry  \n",
       "0               0.2  46.051599  11.072014  POINT (11.07201 46.05160)  \n",
       "1               0.3  46.051541  11.072108  POINT (11.07211 46.05154)  \n",
       "2               0.3  46.051668  11.071959  POINT (11.07196 46.05167)  \n",
       "3               0.5  46.063778  11.150170  POINT (11.15017 46.06378)  \n",
       "4               1.5  46.052305  11.071550  POINT (11.07155 46.05230)  \n",
       "\n",
       "[5 rows x 26 columns]"
      ]
     },
     "execution_count": 4,
     "metadata": {},
     "output_type": "execute_result"
    }
   ],
   "source": [
    "# Check the structure of the dataframe\n",
    "dataframe.head()"
   ]
  },
  {
   "cell_type": "code",
   "execution_count": 5,
   "id": "32f0311d",
   "metadata": {},
   "outputs": [
    {
     "data": {
      "text/plain": [
       "Tree ID                                 float64\n",
       "Name                                     object\n",
       "DBH (cm)                                 object\n",
       "Replacement Value (eur)                  object\n",
       "Carbon Storage (kg)                      object\n",
       "Carbon Storage (eur)                     object\n",
       "Gross Carbon Sequestration (kg/yr)       object\n",
       "Gross Carbon Sequestration (eur/yr)      object\n",
       "Avoided Runoff (mcube/yr)                object\n",
       "Avoided Runoff (eur/yr)                  object\n",
       "Carbon Avoided (kg/yr)                   object\n",
       "Carbon Avoided (eur/yr)                  object\n",
       "Pollution Removal (g/yr)                 object\n",
       "Pollution Removal (eur/yr)               object\n",
       "Energy Savings (eur/yr)                  object\n",
       "Total Annual Benefits (eur/yr)           object\n",
       "Oxygen Production (kg/yr)                object\n",
       "Height (m)                               object\n",
       "Crown Height (m)                         object\n",
       "Crown Width (m)                          object\n",
       "Canopy Cover (m2)                        object\n",
       "Leaf Area (m2)                           object\n",
       "Leaf Biomass (kg)                        object\n",
       "Latitude                                float64\n",
       "Longitude                               float64\n",
       "geometry                               geometry\n",
       "dtype: object"
      ]
     },
     "execution_count": 5,
     "metadata": {},
     "output_type": "execute_result"
    }
   ],
   "source": [
    "# Check the dtypes of the variables in the dataframe - most of them are not correct\n",
    "dataframe.dtypes"
   ]
  },
  {
   "cell_type": "code",
   "execution_count": 6,
   "id": "764fa0d8",
   "metadata": {},
   "outputs": [],
   "source": [
    "# Update the dtypes of each variable in the dataframe with the correct one\n",
    "dataframe = dataframe.astype({\"Tree ID\": int,\n",
    "                              \"Name\": str,\n",
    "                              \"DBH (cm)\": float,\n",
    "                              \"Replacement Value (eur)\": float,\n",
    "                              \"Carbon Storage (kg)\": float,\n",
    "                              \"Carbon Storage (eur)\": float,\n",
    "                              \"Gross Carbon Sequestration (kg/yr)\": float,\n",
    "                              \"Gross Carbon Sequestration (eur/yr)\": float,\n",
    "                              \"Avoided Runoff (mcube/yr)\": float,\n",
    "                              \"Avoided Runoff (eur/yr)\": float,\n",
    "                              \"Carbon Avoided (kg/yr)\": float,\n",
    "                              \"Carbon Avoided (eur/yr)\": float,\n",
    "                              \"Pollution Removal (g/yr)\": float,\n",
    "                              \"Pollution Removal (eur/yr)\": float,\n",
    "                              \"Energy Savings (eur/yr)\": float,\n",
    "                              \"Total Annual Benefits (eur/yr)\": float,\n",
    "                              \"Oxygen Production (kg/yr)\": float,\n",
    "                              \"Height (m)\": float,\n",
    "                              \"Crown Height (m)\": float,\n",
    "                              \"Crown Width (m)\": float,\n",
    "                              \"Canopy Cover (m2)\": float,\n",
    "                              \"Leaf Area (m2)\": float,\n",
    "                              \"Leaf Biomass (kg)\": float,\n",
    "                              \"Latitude\": float,\n",
    "                              \"Longitude\": float})"
   ]
  },
  {
   "cell_type": "code",
   "execution_count": 7,
   "id": "a2524ac8",
   "metadata": {},
   "outputs": [
    {
     "data": {
      "text/plain": [
       "Tree ID                                   int32\n",
       "Name                                     object\n",
       "DBH (cm)                                float64\n",
       "Replacement Value (eur)                 float64\n",
       "Carbon Storage (kg)                     float64\n",
       "Carbon Storage (eur)                    float64\n",
       "Gross Carbon Sequestration (kg/yr)      float64\n",
       "Gross Carbon Sequestration (eur/yr)     float64\n",
       "Avoided Runoff (mcube/yr)               float64\n",
       "Avoided Runoff (eur/yr)                 float64\n",
       "Carbon Avoided (kg/yr)                  float64\n",
       "Carbon Avoided (eur/yr)                 float64\n",
       "Pollution Removal (g/yr)                float64\n",
       "Pollution Removal (eur/yr)              float64\n",
       "Energy Savings (eur/yr)                 float64\n",
       "Total Annual Benefits (eur/yr)          float64\n",
       "Oxygen Production (kg/yr)               float64\n",
       "Height (m)                              float64\n",
       "Crown Height (m)                        float64\n",
       "Crown Width (m)                         float64\n",
       "Canopy Cover (m2)                       float64\n",
       "Leaf Area (m2)                          float64\n",
       "Leaf Biomass (kg)                       float64\n",
       "Latitude                                float64\n",
       "Longitude                               float64\n",
       "geometry                               geometry\n",
       "dtype: object"
      ]
     },
     "execution_count": 7,
     "metadata": {},
     "output_type": "execute_result"
    }
   ],
   "source": [
    "# Check that the dtypes update has worked properly\n",
    "dataframe.dtypes"
   ]
  },
  {
   "cell_type": "markdown",
   "id": "d119a366",
   "metadata": {},
   "source": [
    "---"
   ]
  },
  {
   "cell_type": "markdown",
   "id": "ed014b7f",
   "metadata": {},
   "source": [
    "## Code for first plot\n",
    "\n",
    "This is the code to generate the csv file required to display the **abundance** of the top-15 tree species in Trento.\n",
    "<br>It's also required to report the **average canopy size**."
   ]
  },
  {
   "cell_type": "code",
   "execution_count": 8,
   "id": "d34e0bdd-fbc1-4684-8fed-771bb70471bf",
   "metadata": {},
   "outputs": [],
   "source": [
    "tree_height=dataframe[\"Height (m)\"]"
   ]
  },
  {
   "cell_type": "code",
   "execution_count": 11,
   "id": "154b3922-e7b6-484d-9a38-bdf3c5167348",
   "metadata": {},
   "outputs": [
    {
     "name": "stdout",
     "output_type": "stream",
     "text": [
      "60.0\n",
      "0.1\n"
     ]
    }
   ],
   "source": [
    "print(np.max(tree_height))\n",
    "print(tree_height.min())"
   ]
  },
  {
   "cell_type": "code",
   "execution_count": null,
   "id": "14b2570b-68af-499c-beb5-a12b0e3bd40a",
   "metadata": {},
   "outputs": [
    {
     "data": {
      "text/plain": [
       "0        3.5\n",
       "1        5.0\n",
       "2        4.5\n",
       "3        5.0\n",
       "4        8.0\n",
       "        ... \n",
       "12507    2.5\n",
       "12508    2.5\n",
       "12509    8.0\n",
       "12510    8.0\n",
       "12511    2.5\n",
       "Name: Height (m), Length: 12512, dtype: float64"
      ]
     },
     "execution_count": 13,
     "metadata": {},
     "output_type": "execute_result"
    }
   ],
   "source": [
    "tree_height"
   ]
  },
  {
   "cell_type": "code",
   "execution_count": 17,
   "id": "e1aba09a-9f9a-45ab-93be-4bc54c21962b",
   "metadata": {},
   "outputs": [],
   "source": [
    "tree_height.name=\"Height\""
   ]
  },
  {
   "cell_type": "code",
   "execution_count": 18,
   "id": "8c83f134-5f79-46f4-a4e1-f183a7959e0a",
   "metadata": {},
   "outputs": [],
   "source": [
    "tree_height.to_csv(\"../../data/assign2-plot1.csv\",sep=\",\",index=False)"
   ]
  },
  {
   "cell_type": "code",
   "execution_count": 19,
   "id": "c123916f-cd41-4c56-aedd-a4d3cfca3190",
   "metadata": {},
   "outputs": [
    {
     "data": {
      "text/html": [
       "<div>\n",
       "<style scoped>\n",
       "    .dataframe tbody tr th:only-of-type {\n",
       "        vertical-align: middle;\n",
       "    }\n",
       "\n",
       "    .dataframe tbody tr th {\n",
       "        vertical-align: top;\n",
       "    }\n",
       "\n",
       "    .dataframe thead th {\n",
       "        text-align: right;\n",
       "    }\n",
       "</style>\n",
       "<table border=\"1\" class=\"dataframe\">\n",
       "  <thead>\n",
       "    <tr style=\"text-align: right;\">\n",
       "      <th></th>\n",
       "      <th>Height</th>\n",
       "    </tr>\n",
       "  </thead>\n",
       "  <tbody>\n",
       "    <tr>\n",
       "      <th>0</th>\n",
       "      <td>3.5</td>\n",
       "    </tr>\n",
       "    <tr>\n",
       "      <th>1</th>\n",
       "      <td>5.0</td>\n",
       "    </tr>\n",
       "    <tr>\n",
       "      <th>2</th>\n",
       "      <td>4.5</td>\n",
       "    </tr>\n",
       "    <tr>\n",
       "      <th>3</th>\n",
       "      <td>5.0</td>\n",
       "    </tr>\n",
       "    <tr>\n",
       "      <th>4</th>\n",
       "      <td>8.0</td>\n",
       "    </tr>\n",
       "    <tr>\n",
       "      <th>...</th>\n",
       "      <td>...</td>\n",
       "    </tr>\n",
       "    <tr>\n",
       "      <th>12507</th>\n",
       "      <td>2.5</td>\n",
       "    </tr>\n",
       "    <tr>\n",
       "      <th>12508</th>\n",
       "      <td>2.5</td>\n",
       "    </tr>\n",
       "    <tr>\n",
       "      <th>12509</th>\n",
       "      <td>8.0</td>\n",
       "    </tr>\n",
       "    <tr>\n",
       "      <th>12510</th>\n",
       "      <td>8.0</td>\n",
       "    </tr>\n",
       "    <tr>\n",
       "      <th>12511</th>\n",
       "      <td>2.5</td>\n",
       "    </tr>\n",
       "  </tbody>\n",
       "</table>\n",
       "<p>12512 rows × 1 columns</p>\n",
       "</div>"
      ],
      "text/plain": [
       "       Height\n",
       "0         3.5\n",
       "1         5.0\n",
       "2         4.5\n",
       "3         5.0\n",
       "4         8.0\n",
       "...       ...\n",
       "12507     2.5\n",
       "12508     2.5\n",
       "12509     8.0\n",
       "12510     8.0\n",
       "12511     2.5\n",
       "\n",
       "[12512 rows x 1 columns]"
      ]
     },
     "execution_count": 19,
     "metadata": {},
     "output_type": "execute_result"
    }
   ],
   "source": [
    "pd.read_csv(\"../../data/assign2-plot1.csv\")"
   ]
  },
  {
   "cell_type": "code",
   "execution_count": null,
   "id": "28575dac-eebb-4ae5-9889-2e7ea8199ad7",
   "metadata": {},
   "outputs": [],
   "source": []
  }
 ],
 "metadata": {
  "kernelspec": {
   "display_name": "Python 3 (ipykernel)",
   "language": "python",
   "name": "python3"
  },
  "language_info": {
   "codemirror_mode": {
    "name": "ipython",
    "version": 3
   },
   "file_extension": ".py",
   "mimetype": "text/x-python",
   "name": "python",
   "nbconvert_exporter": "python",
   "pygments_lexer": "ipython3",
   "version": "3.9.7"
  },
  "vscode": {
   "interpreter": {
    "hash": "f100b37b0c41010810ddead1e08c0f33360f5c87a8ada73bba5216d2fb8a7792"
   }
  }
 },
 "nbformat": 4,
 "nbformat_minor": 5
}
